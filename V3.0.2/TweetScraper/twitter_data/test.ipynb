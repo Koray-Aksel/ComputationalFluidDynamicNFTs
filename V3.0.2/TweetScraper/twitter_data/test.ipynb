{
 "cells": [
  {
   "cell_type": "code",
   "execution_count": 31,
   "id": "8f5e779a",
   "metadata": {},
   "outputs": [],
   "source": [
    "with open(\"activity_by_user.json\", \"r\") as fid:\n",
    "    line = fid.read()\n",
    "# end with"
   ]
  },
  {
   "cell_type": "code",
   "execution_count": 32,
   "id": "af70872a",
   "metadata": {},
   "outputs": [],
   "source": [
    "import ast\n",
    "line = ast.literal_eval(line)"
   ]
  },
  {
   "cell_type": "code",
   "execution_count": 15,
   "id": "795ed37d",
   "metadata": {},
   "outputs": [],
   "source": [
    "for key in line.keys():\n",
    "    if key[0].isdigit():\n",
    "        if \"Gio3272\" in line[key][\"usernames\"]:\n",
    "            userId = key\n",
    "        # end if\n",
    "    # end if\n",
    "# end for"
   ]
  },
  {
   "cell_type": "code",
   "execution_count": 34,
   "id": "d9f4e9bd",
   "metadata": {},
   "outputs": [],
   "source": [
    "dtypes = [\"Likes\", \"Retweets\", \"Replies\", \"QuoteTweets\"]\n",
    "num_dict = {\"num_Likes\":0, \"num_Retweets\":0, \"num_Replies\":0, \"num_QuoteTweets\":0}\n",
    "tweet_times = {}\n",
    "tweet_ids = []\n",
    "for dtype in dtypes:\n",
    "    tweet_times[dtype] = []\n",
    "    for ii,tweet_time in enumerate(line[userId][dtype][\"tweet_creation_times\"]):\n",
    "        if tweet_time in tweet_times[dtype]:\n",
    "            continue\n",
    "        tweet_times[dtype].append(tweet_time)\n",
    "        num_dict[\"num_\"+dtype] += 1\n",
    "        tweet_ids.append(line[userId][dtype][\"tweet_ids\"][ii])\n",
    "    # end for\n",
    "# end for"
   ]
  },
  {
   "cell_type": "code",
   "execution_count": 35,
   "id": "3341d7f7",
   "metadata": {},
   "outputs": [
    {
     "data": {
      "text/plain": [
       "{'num_Likes': 527,\n",
       " 'num_Retweets': 354,\n",
       " 'num_Replies': 16,\n",
       " 'num_QuoteTweets': 135}"
      ]
     },
     "execution_count": 35,
     "metadata": {},
     "output_type": "execute_result"
    }
   ],
   "source": [
    "num_dict"
   ]
  },
  {
   "cell_type": "code",
   "execution_count": 24,
   "id": "9d31626f",
   "metadata": {},
   "outputs": [],
   "source": [
    "user_data = line[userId]"
   ]
  },
  {
   "cell_type": "code",
   "execution_count": 25,
   "id": "a876c191",
   "metadata": {},
   "outputs": [
    {
     "name": "stdout",
     "output_type": "stream",
     "text": [
      "keyword_retweets:  79\n",
      "keyword_replies:  288\n"
     ]
    }
   ],
   "source": [
    "keyword_replies  = 0\n",
    "keyword_retweets = 0\n",
    "tweet_contents = []\n",
    "for ii,tweet_content in enumerate(user_data[\"tweet_contents\"]):\n",
    "  if user_data[\"tweet_ids\"][ii] in tweet_ids:\n",
    "    continue\n",
    "  if tweet_content in tweet_contents:\n",
    "    continue\n",
    "  # end if\n",
    "  tweet_contents.append(tweet_content)\n",
    "  tweet_content = tweet_content.lower()\n",
    "\n",
    "  ## below if statement to exclude LuckyRooToken tweets...or we\n",
    "  ## could just check for whitelisted users???\n",
    "  if \"#luckyroo\" in tweet_content or \"@luckyr\" in tweet_content or \\\n",
    "     \"#saita\" in tweet_content or \"@saita\" in tweet_content or \\\n",
    "     \"promote it on\" in tweet_content: # last one to filter out spam bots\n",
    "    continue\n",
    "  # end if\n",
    "\n",
    "  if user_data[\"tweet_contents\"][ii][:3] == \"RT \":\n",
    "    keyword_retweets += 1\n",
    "  else:\n",
    "    keyword_replies += 1\n",
    "  # end if/else\n",
    "# end for\n",
    "print(\"keyword_retweets: \", keyword_retweets)\n",
    "print(\"keyword_replies: \", keyword_replies)"
   ]
  },
  {
   "cell_type": "code",
   "execution_count": 9,
   "id": "3f8107c9",
   "metadata": {},
   "outputs": [
    {
     "name": "stdout",
     "output_type": "stream",
     "text": [
      "keyword_retweets:  908\n",
      "keyword_replies:  565\n"
     ]
    }
   ],
   "source": [
    "keyword_replies  = 0\n",
    "keyword_retweets = 0\n",
    "tweet_contents = []\n",
    "for ii,tweet_content in enumerate(user_data[\"tweet_contents\"]):\n",
    "  if tweet_content in tweet_contents:\n",
    "    continue\n",
    "  # end if\n",
    "  tweet_contents.append(tweet_content)\n",
    "  tweet_content = tweet_content.lower()\n",
    "\n",
    "  ## below if statement to exclude LuckyRooToken tweets...or we\n",
    "  ## could just check for whitelisted users???\n",
    "  if \"#luckyroo\" in tweet_content or \"@luckyr\" in tweet_content or \\\n",
    "     \"#saita\" in tweet_content or \"@saita\" in tweet_content or \\\n",
    "     \"promote it on\" in tweet_content: # last one to filter out spam bots\n",
    "    continue\n",
    "  # end if\n",
    "\n",
    "  if user_data[\"tweet_contents\"][ii][:2] == \"RT\":\n",
    "    keyword_retweets += 1\n",
    "  else:\n",
    "    keyword_replies += 1\n",
    "  # end if/else\n",
    "# end for\n",
    "print(\"keyword_retweets: \", keyword_retweets)\n",
    "print(\"keyword_replies: \", keyword_replies)"
   ]
  },
  {
   "cell_type": "code",
   "execution_count": 33,
   "id": "ede6d960",
   "metadata": {},
   "outputs": [],
   "source": [
    "for key in line.keys():\n",
    "    if key[0].isdigit():\n",
    "        if \"MorganStoneee\" in line[key][\"usernames\"]:\n",
    "            userId = key\n",
    "        # end if\n",
    "    # end if\n",
    "# end for"
   ]
  },
  {
   "cell_type": "code",
   "execution_count": 12,
   "id": "c26305b2",
   "metadata": {},
   "outputs": [
    {
     "data": {
      "text/plain": [
       "{'num_Likes': 527,\n",
       " 'num_Retweets': 354,\n",
       " 'num_Replies': 16,\n",
       " 'num_QuoteTweets': 135}"
      ]
     },
     "execution_count": 12,
     "metadata": {},
     "output_type": "execute_result"
    }
   ],
   "source": [
    "dtypes = [\"Likes\", \"Retweets\", \"Replies\", \"QuoteTweets\"]\n",
    "num_dict = {\"num_Likes\":0, \"num_Retweets\":0, \"num_Replies\":0, \"num_QuoteTweets\":0}\n",
    "tweet_times = {}\n",
    "for dtype in dtypes:\n",
    "    tweet_times[dtype] = []\n",
    "    for tweet_time in line[userId][dtype][\"tweet_creation_times\"]:\n",
    "        if tweet_time in tweet_times[dtype]:\n",
    "            continue\n",
    "        tweet_times[dtype].append(tweet_time)\n",
    "        num_dict[\"num_\"+dtype] += 1\n",
    "    # end for\n",
    "# end for\n",
    "num_dict"
   ]
  },
  {
   "cell_type": "code",
   "execution_count": 13,
   "id": "4c2aa2b3",
   "metadata": {},
   "outputs": [
    {
     "name": "stdout",
     "output_type": "stream",
     "text": [
      "keyword_retweets:  195\n",
      "keyword_replies:  674\n"
     ]
    }
   ],
   "source": [
    "user_data = line[userId]\n",
    "keyword_replies  = 0\n",
    "keyword_retweets = 0\n",
    "tweet_contents = []\n",
    "for ii,tweet_content in enumerate(user_data[\"tweet_contents\"]):\n",
    "  if tweet_content in tweet_contents:\n",
    "    continue\n",
    "  # end if\n",
    "  tweet_contents.append(tweet_content)\n",
    "  tweet_content = tweet_content.lower()\n",
    "\n",
    "  ## below if statement to exclude LuckyRooToken tweets...or we\n",
    "  ## could just check for whitelisted users???\n",
    "  if \"#luckyroo\" in tweet_content or \"@luckyr\" in tweet_content or \\\n",
    "     \"#saita\" in tweet_content or \"@saita\" in tweet_content or \\\n",
    "     \"promote it on\" in tweet_content: # last one to filter out spam bots\n",
    "    continue\n",
    "  # end if\n",
    "\n",
    "  if user_data[\"tweet_contents\"][ii][:3] == \"RT \":\n",
    "    keyword_retweets += 1\n",
    "  else:\n",
    "    keyword_replies += 1\n",
    "  # end if/else\n",
    "# end for\n",
    "print(\"keyword_retweets: \", keyword_retweets)\n",
    "print(\"keyword_replies: \", keyword_replies)"
   ]
  },
  {
   "cell_type": "code",
   "execution_count": 26,
   "id": "8fbacc04",
   "metadata": {},
   "outputs": [
    {
     "name": "stdout",
     "output_type": "stream",
     "text": [
      "points Gio3272:  3628\n",
      "points Stone:  2845\n"
     ]
    }
   ],
   "source": [
    "pointsG = 1247 + 2*255 + 2*411 + 3*13 + 3*234 + 4*77\n",
    "pointsS =  527 + 2*354 + 2* 79 + 3*16 + 3*288 + 4*135\n",
    "\n",
    "print(\"points Gio3272: \", pointsG)\n",
    "print(\"points Stone: \", pointsS)"
   ]
  },
  {
   "cell_type": "code",
   "execution_count": 27,
   "id": "3e88e1f9",
   "metadata": {},
   "outputs": [
    {
     "data": {
      "text/plain": [
       "907"
      ]
     },
     "execution_count": 27,
     "metadata": {},
     "output_type": "execute_result"
    }
   ],
   "source": [
    "len(user_data[\"tweet_contents\"])"
   ]
  },
  {
   "cell_type": "code",
   "execution_count": 29,
   "id": "55842930",
   "metadata": {},
   "outputs": [
    {
     "data": {
      "text/plain": [
       "1505"
      ]
     },
     "execution_count": 29,
     "metadata": {},
     "output_type": "execute_result"
    }
   ],
   "source": [
    "len(user_data[\"tweet_ids\"])"
   ]
  },
  {
   "cell_type": "code",
   "execution_count": 30,
   "id": "d9cdd48c",
   "metadata": {},
   "outputs": [
    {
     "data": {
      "text/plain": [
       "'/Users/redx/Documents/Desktop/NFTs/ComputationalFluidDynamicNFTs/V3.0.1/TweetScraper/twitter_data'"
      ]
     },
     "execution_count": 30,
     "metadata": {},
     "output_type": "execute_result"
    }
   ],
   "source": [
    "import os\n",
    "os.getcwd()"
   ]
  },
  {
   "cell_type": "code",
   "execution_count": 36,
   "id": "17d5d89b",
   "metadata": {},
   "outputs": [],
   "source": [
    "fname = \"user_info.json\"\n",
    "with open(fname, \"r\") as fid:\n",
    "    line2 = fid.read()\n",
    "# end with\n",
    "line2 = ast.literal_eval(line2)"
   ]
  },
  {
   "cell_type": "code",
   "execution_count": 41,
   "id": "2649d50c",
   "metadata": {},
   "outputs": [],
   "source": [
    "uid = line2[\"username_to_userId\"][\"TheLunaLabs\"]"
   ]
  },
  {
   "cell_type": "code",
   "execution_count": 42,
   "id": "14abf3a4",
   "metadata": {},
   "outputs": [
    {
     "data": {
      "text/plain": [
       "False"
      ]
     },
     "execution_count": 42,
     "metadata": {},
     "output_type": "execute_result"
    }
   ],
   "source": [
    "uid in list(line.keys())"
   ]
  },
  {
   "cell_type": "code",
   "execution_count": 43,
   "id": "42c9822d",
   "metadata": {},
   "outputs": [],
   "source": [
    "for key in line.keys():\n",
    "    if key[0].isdigit():\n",
    "        if \"TheLunaLabs\" in line[key][\"usernames\"]:\n",
    "            userId = key\n",
    "        # end if\n",
    "    # end if\n",
    "# end for"
   ]
  },
  {
   "cell_type": "code",
   "execution_count": 44,
   "id": "3fcd5ca9",
   "metadata": {},
   "outputs": [
    {
     "data": {
      "text/plain": [
       "'1463974412965892100'"
      ]
     },
     "execution_count": 44,
     "metadata": {},
     "output_type": "execute_result"
    }
   ],
   "source": [
    "userId"
   ]
  },
  {
   "cell_type": "code",
   "execution_count": 45,
   "id": "d125f613",
   "metadata": {},
   "outputs": [
    {
     "data": {
      "text/plain": [
       "['TheLunaLabs',\n",
       " 'TheLunaLabs',\n",
       " 'TheLunaLabs',\n",
       " 'TheLunaLabs',\n",
       " 'TheLunaLabs',\n",
       " 'TheLunaLabs',\n",
       " 'TheLunaLabs',\n",
       " 'TheLunaLabs',\n",
       " 'TheLunaLabs',\n",
       " 'TheLunaLabs',\n",
       " 'TheLunaLabs',\n",
       " 'TheLunaLabs',\n",
       " 'TheLunaLabs',\n",
       " 'TheLunaLabs',\n",
       " 'TheLunaLabs',\n",
       " 'TheLunaLabs',\n",
       " 'TheLunaLabs',\n",
       " 'TheLunaLabs',\n",
       " 'TheLunaLabs',\n",
       " 'TheLunaLabs',\n",
       " 'TheLunaLabs',\n",
       " 'TheLunaLabs',\n",
       " 'TheLunaLabs',\n",
       " 'TheLunaLabs',\n",
       " 'TheLunaLabs',\n",
       " 'TheLunaLabs',\n",
       " 'TheLunaLabs',\n",
       " 'TheLunaLabs',\n",
       " 'TheLunaLabs',\n",
       " 'TheLunaLabs',\n",
       " 'TheLunaLabs',\n",
       " 'TheLunaLabs',\n",
       " 'TheLunaLabs',\n",
       " 'TheLunaLabs',\n",
       " 'TheLunaLabs',\n",
       " 'TheLunaLabs',\n",
       " 'TheLunaLabs',\n",
       " 'TheLunaLabs',\n",
       " 'TheLunaLabs',\n",
       " 'TheLunaLabs',\n",
       " 'TheLunaLabs',\n",
       " 'TheLunaLabs',\n",
       " 'TheLunaLabs',\n",
       " 'TheLunaLabs',\n",
       " 'TheLunaLabs',\n",
       " 'TheLunaLabs',\n",
       " 'TheLunaLabs',\n",
       " 'TheLunaLabs',\n",
       " 'TheLunaLabs',\n",
       " 'TheLunaLabs',\n",
       " 'TheLunaLabs',\n",
       " 'TheLunaLabs',\n",
       " 'TheLunaLabs',\n",
       " 'TheLunaLabs',\n",
       " 'TheLunaLabs',\n",
       " 'TheLunaLabs',\n",
       " 'TheLunaLabs',\n",
       " 'TheLunaLabs',\n",
       " 'TheLunaLabs',\n",
       " 'TheLunaLabs',\n",
       " 'TheLunaLabs',\n",
       " 'TheLunaLabs',\n",
       " 'TheLunaLabs',\n",
       " 'TheLunaLabs',\n",
       " 'TheLunaLabs',\n",
       " 'TheLunaLabs',\n",
       " 'TheLunaLabs',\n",
       " 'TheLunaLabs',\n",
       " 'TheLunaLabs',\n",
       " 'TheLunaLabs',\n",
       " 'TheLunaLabs',\n",
       " 'TheLunaLabs',\n",
       " 'TheLunaLabs',\n",
       " 'TheLunaLabs',\n",
       " 'TheLunaLabs',\n",
       " 'TheLunaLabs',\n",
       " 'TheLunaLabs',\n",
       " 'TheLunaLabs',\n",
       " 'TheLunaLabs',\n",
       " 'TheLunaLabs',\n",
       " 'TheLunaLabs',\n",
       " 'TheLunaLabs',\n",
       " 'TheLunaLabs',\n",
       " 'TheLunaLabs',\n",
       " 'TheLunaLabs',\n",
       " 'TheLunaLabs',\n",
       " 'TheLunaLabs',\n",
       " 'TheLunaLabs',\n",
       " 'TheLunaLabs',\n",
       " 'TheLunaLabs',\n",
       " 'TheLunaLabs',\n",
       " 'TheLunaLabs',\n",
       " 'TheLunaLabs',\n",
       " 'TheLunaLabs',\n",
       " 'TheLunaLabs',\n",
       " 'TheLunaLabs',\n",
       " 'TheLunaLabs',\n",
       " 'TheLunaLabs',\n",
       " 'TheLunaLabs',\n",
       " 'TheLunaLabs',\n",
       " 'TheLunaLabs',\n",
       " 'TheLunaLabs',\n",
       " 'TheLunaLabs',\n",
       " 'TheLunaLabs',\n",
       " 'TheLunaLabs',\n",
       " 'TheLunaLabs',\n",
       " 'TheLunaLabs',\n",
       " 'TheLunaLabs',\n",
       " 'TheLunaLabs',\n",
       " 'TheLunaLabs',\n",
       " 'TheLunaLabs',\n",
       " 'TheLunaLabs',\n",
       " 'TheLunaLabs',\n",
       " 'TheLunaLabs',\n",
       " 'TheLunaLabs',\n",
       " 'TheLunaLabs',\n",
       " 'TheLunaLabs',\n",
       " 'TheLunaLabs',\n",
       " 'TheLunaLabs',\n",
       " 'TheLunaLabs',\n",
       " 'TheLunaLabs',\n",
       " 'TheLunaLabs',\n",
       " 'TheLunaLabs',\n",
       " 'TheLunaLabs',\n",
       " 'TheLunaLabs',\n",
       " 'TheLunaLabs',\n",
       " 'TheLunaLabs',\n",
       " 'TheLunaLabs',\n",
       " 'TheLunaLabs',\n",
       " 'TheLunaLabs',\n",
       " 'TheLunaLabs',\n",
       " 'TheLunaLabs',\n",
       " 'TheLunaLabs',\n",
       " 'TheLunaLabs',\n",
       " 'TheLunaLabs',\n",
       " 'TheLunaLabs',\n",
       " 'TheLunaLabs',\n",
       " 'TheLunaLabs',\n",
       " 'TheLunaLabs',\n",
       " 'TheLunaLabs',\n",
       " 'TheLunaLabs',\n",
       " 'TheLunaLabs',\n",
       " 'TheLunaLabs',\n",
       " 'TheLunaLabs',\n",
       " 'TheLunaLabs',\n",
       " 'TheLunaLabs',\n",
       " 'TheLunaLabs',\n",
       " 'TheLunaLabs',\n",
       " 'TheLunaLabs',\n",
       " 'TheLunaLabs',\n",
       " 'TheLunaLabs',\n",
       " 'TheLunaLabs',\n",
       " 'TheLunaLabs',\n",
       " 'TheLunaLabs',\n",
       " 'TheLunaLabs',\n",
       " 'TheLunaLabs',\n",
       " 'TheLunaLabs',\n",
       " 'TheLunaLabs',\n",
       " 'TheLunaLabs',\n",
       " 'TheLunaLabs',\n",
       " 'TheLunaLabs',\n",
       " 'TheLunaLabs',\n",
       " 'TheLunaLabs',\n",
       " 'TheLunaLabs',\n",
       " 'TheLunaLabs',\n",
       " 'TheLunaLabs',\n",
       " 'TheLunaLabs']"
      ]
     },
     "execution_count": 45,
     "metadata": {},
     "output_type": "execute_result"
    }
   ],
   "source": [
    "line[userId][\"usernames\"]"
   ]
  },
  {
   "cell_type": "code",
   "execution_count": null,
   "id": "b1435158",
   "metadata": {},
   "outputs": [],
   "source": []
  }
 ],
 "metadata": {
  "kernelspec": {
   "display_name": "Python 3 (ipykernel)",
   "language": "python",
   "name": "python3"
  },
  "language_info": {
   "codemirror_mode": {
    "name": "ipython",
    "version": 3
   },
   "file_extension": ".py",
   "mimetype": "text/x-python",
   "name": "python",
   "nbconvert_exporter": "python",
   "pygments_lexer": "ipython3",
   "version": "3.9.1"
  }
 },
 "nbformat": 4,
 "nbformat_minor": 5
}
