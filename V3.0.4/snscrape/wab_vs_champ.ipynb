{
 "cells": [
  {
   "cell_type": "code",
   "execution_count": 20,
   "id": "96ce3d62",
   "metadata": {},
   "outputs": [],
   "source": [
    "## just gonna look at past two weeks of RooTroopNFT mentions and engagement to see if introduction of tweeteroo caused a spike.\n",
    "import os\n",
    "import glob\n",
    "import numpy as np\n",
    "import matplotlib.pyplot as plt\n",
    "\n",
    "with open(\"data_big/at_wabdoteth\", \"r\") as fid:\n",
    "    mentions = fid.read()\n",
    "# end with\n",
    "mentions = mentions.split(\"Tweet(\")[1:]"
   ]
  },
  {
   "cell_type": "code",
   "execution_count": 21,
   "id": "a4ff838b",
   "metadata": {},
   "outputs": [],
   "source": [
    "with open(\"data_big/at_champtgram\", \"r\") as fid:\n",
    "    mentionsCH = fid.read()\n",
    "# end with\n",
    "mentionsCH = mentionsCH.split(\"Tweet(\")[1:]"
   ]
  },
  {
   "cell_type": "code",
   "execution_count": 22,
   "id": "83590c66",
   "metadata": {},
   "outputs": [],
   "source": [
    "dates = []\n",
    "for mention in mentions:\n",
    "    dates.append(mention.split(\"date=datetime.datetime(\")[1].split(\", tzinfo=\")[0])"
   ]
  },
  {
   "cell_type": "code",
   "execution_count": 23,
   "id": "0c827317",
   "metadata": {},
   "outputs": [],
   "source": [
    "datesCH = []\n",
    "for mention in mentionsCH:\n",
    "    datesCH.append(mention.split(\"date=datetime.datetime(\")[1].split(\", tzinfo=\")[0])"
   ]
  },
  {
   "cell_type": "code",
   "execution_count": 33,
   "id": "f14b1d4b",
   "metadata": {},
   "outputs": [],
   "source": [
    "days = {}\n",
    "for date in dates[::-1]:\n",
    "    date = date.replace(\" \",\"\")\n",
    "    if len(date.split(\",\")) == 6:\n",
    "        yy,mm,dd,HH,MM,SS = date.split(\",\")\n",
    "    else:\n",
    "        yy,mm,dd,HH,MM = date.split(\",\")\n",
    "    if mm != \"7\":\n",
    "        continue\n",
    "    # end if\n",
    "    day = yy + \"-\" + mm + \"-\" + dd\n",
    "    if day not in days:\n",
    "        days[day] = 0\n",
    "    # end if\n",
    "\n",
    "    days[day] += 1\n",
    "    #print(\"days: \", days)\n",
    "    #input(\">>\")\n",
    "# end for"
   ]
  },
  {
   "cell_type": "code",
   "execution_count": 34,
   "id": "31d02e97",
   "metadata": {},
   "outputs": [
    {
     "data": {
      "text/plain": [
       "{'2022-7-1': 722,\n",
       " '2022-7-2': 507,\n",
       " '2022-7-3': 536,\n",
       " '2022-7-4': 1272,\n",
       " '2022-7-5': 1552,\n",
       " '2022-7-6': 1402,\n",
       " '2022-7-7': 2391,\n",
       " '2022-7-8': 3935,\n",
       " '2022-7-9': 3860,\n",
       " '2022-7-10': 4756,\n",
       " '2022-7-11': 5046,\n",
       " '2022-7-12': 1547}"
      ]
     },
     "execution_count": 34,
     "metadata": {},
     "output_type": "execute_result"
    }
   ],
   "source": [
    "days"
   ]
  },
  {
   "cell_type": "code",
   "execution_count": 35,
   "id": "f6c87921",
   "metadata": {},
   "outputs": [],
   "source": [
    "daysCH = {}\n",
    "for date in datesCH[::-1]:\n",
    "    date = date.replace(\" \",\"\")\n",
    "    if len(date.split(\",\")) == 6:\n",
    "        yy,mm,dd,HH,MM,SS = date.split(\",\")\n",
    "    else:\n",
    "        yy,mm,dd,HH,MM = date.split(\",\")\n",
    "    # end if/else\n",
    "    if mm != \"7\":\n",
    "        continue\n",
    "    # end if\n",
    "    day = yy + \"-\" + mm + \"-\" + dd\n",
    "    if day not in daysCH:\n",
    "        daysCH[day] = 0\n",
    "    # end if\n",
    "\n",
    "    daysCH[day] += 1\n",
    "# end for"
   ]
  },
  {
   "cell_type": "code",
   "execution_count": 36,
   "id": "e287cbf3",
   "metadata": {},
   "outputs": [
    {
     "data": {
      "text/plain": [
       "{'2022-7-1': 1592,\n",
       " '2022-7-2': 566,\n",
       " '2022-7-3': 398,\n",
       " '2022-7-4': 1047,\n",
       " '2022-7-5': 877,\n",
       " '2022-7-6': 718,\n",
       " '2022-7-7': 2151,\n",
       " '2022-7-8': 1951,\n",
       " '2022-7-9': 1571,\n",
       " '2022-7-10': 553,\n",
       " '2022-7-11': 1123,\n",
       " '2022-7-12': 797}"
      ]
     },
     "execution_count": 36,
     "metadata": {},
     "output_type": "execute_result"
    }
   ],
   "source": [
    "daysCH"
   ]
  },
  {
   "cell_type": "code",
   "execution_count": 37,
   "id": "3ad9ba9e",
   "metadata": {},
   "outputs": [],
   "source": [
    "xx = []\n",
    "yy = []\n",
    "\n",
    "for day in days:    \n",
    "    #xx.append(day.split(\"-\")[-1])\n",
    "    xx.append(day.replace(\"2022-\",\"\"))\n",
    "    yy.append(days[day])"
   ]
  },
  {
   "cell_type": "code",
   "execution_count": 38,
   "id": "3b5a10e7",
   "metadata": {},
   "outputs": [],
   "source": [
    "xxCH = []\n",
    "yyCH = []\n",
    "\n",
    "for day in daysCH:    \n",
    "    #xx.append(day.split(\"-\")[-1])\n",
    "    xxCH.append(day.replace(\"2022-\",\"\").replace(\"2021-\",\"\"))\n",
    "    yyCH.append(daysCH[day])"
   ]
  },
  {
   "cell_type": "code",
   "execution_count": 58,
   "id": "6f5360c2",
   "metadata": {},
   "outputs": [
    {
     "name": "stdout",
     "output_type": "stream",
     "text": [
      "xx[0]:  7-1\n"
     ]
    },
    {
     "name": "stderr",
     "output_type": "stream",
     "text": [
      "/var/folders/bq/1kt723454f5bpv_06zkg0s480000gp/T/ipykernel_14681/2899039832.py:28: UserWarning: FixedFormatter should only be used together with FixedLocator\n",
      "  plt.gca().set_xticklabels(xlabels)\n"
     ]
    }
   ],
   "source": [
    "slate_grey   = \"#708090\"\n",
    "canopy_green = \"#8CB76E\"\n",
    "llama_purple = \"#4103fc\"\n",
    "poop_brown   = \"#7b5c00\"\n",
    "\n",
    "ind = np.arange(len(xx)) # location of x points\n",
    "print(\"xx[0]: \", xx[0])\n",
    "xlabels = [\"dud\"] + xx[::2] + [\"dud\"]\n",
    "width = 0.35\n",
    "\n",
    "styles = plt.style.available\n",
    "for style in styles:\n",
    "    if \"seaborn-colorblind\" not in style:\n",
    "        continue\n",
    "    plt.style.use(style)\n",
    "    fig = plt.figure(figsize=(10,8))\n",
    "    plt.bar(ind-width/2.0,yy,   width=width, label=\"@wabdoteth\", color=slate_grey )\n",
    "    plt.bar(ind+width/2.0,yyCH, width=width, label=\"@champtgram\", color=poop_brown)\n",
    "    plt.axhline(y=sum(yy  ) / 12.0, color=slate_grey)\n",
    "    plt.axhline(y=sum(yyCH) / 12.0, color=poop_brown)\n",
    "    \n",
    "    plt.legend(fontsize=18)\n",
    "    plt.title(\"wabdoteth vs. champtgram\", fontsize=24)\n",
    "    plt.ylabel(\"mentions\", fontsize=21)\n",
    "    plt.xlabel(\"date\", fontsize=21)\n",
    "    plt.xticks(fontsize=18)\n",
    "    plt.yticks(fontsize=18)\n",
    "    plt.gca().set_xticklabels(xlabels)\n",
    "    plt.tight_layout()\n",
    "    plt.savefig(\"wab_vs_champ_style_\" + style + \".png\")\n",
    "    plt.close()\n",
    "# end for"
   ]
  },
  {
   "cell_type": "code",
   "execution_count": 48,
   "id": "6038a755",
   "metadata": {},
   "outputs": [
    {
     "data": {
      "text/plain": [
       "['7-1',\n",
       " '7-2',\n",
       " '7-3',\n",
       " '7-4',\n",
       " '7-5',\n",
       " '7-6',\n",
       " '7-7',\n",
       " '7-8',\n",
       " '7-9',\n",
       " '7-10',\n",
       " '7-11',\n",
       " '7-12']"
      ]
     },
     "execution_count": 48,
     "metadata": {},
     "output_type": "execute_result"
    }
   ],
   "source": [
    "xx"
   ]
  },
  {
   "cell_type": "code",
   "execution_count": 90,
   "id": "25ec43f1",
   "metadata": {},
   "outputs": [
    {
     "name": "stdout",
     "output_type": "stream",
     "text": [
      ".8\n",
      "1.0\n",
      ".15\n",
      ".15\n"
     ]
    }
   ],
   "source": [
    "print(plt.rcParams['axes.edgecolor'])\n",
    "print(plt.rcParams['axes.linewidth'])\n",
    "print(plt.rcParams['xtick.color'])\n",
    "print(plt.rcParams['ytick.color'])"
   ]
  },
  {
   "cell_type": "code",
   "execution_count": 91,
   "id": "34d2d8a0",
   "metadata": {},
   "outputs": [],
   "source": [
    "x10 = x1[:8]\n",
    "x11 = x1[8:]\n",
    "y10 = y1[:8]\n",
    "y11 = y1[8:]\n",
    "\n",
    "slate_grey   = \"#708090\"\n",
    "canopy_green = \"#8CB76E\"\n",
    "llama_purple = \"#4103fc\"\n",
    "poop_brown   = \"#7b5c00\"\n",
    "\n",
    "plt.rcParams['axes.edgecolor']='#333F4B'\n",
    "plt.rcParams['axes.linewidth']=0.8\n",
    "plt.rcParams['xtick.color']='#333F4B'\n",
    "plt.rcParams['ytick.color']='#333F4B'\n",
    "\n",
    "for style in styles:\n",
    "    if \"seaborn-colorblind\" not in style:\n",
    "        continue\n",
    "    plt.style.use(style)\n",
    "    fig = plt.figure(figsize=(10,8))\n",
    "    plt.bar(x10,y10, color=poop_brown)\n",
    "    plt.bar(x11,y11, color=canopy_green)\n",
    "    plt.axhline(y=sum(y10) / 8.0, color=poop_brown)\n",
    "    plt.axhline(y=sum(y11) / 8.0, color=canopy_green)\n",
    "    \n",
    "    plt.ylabel(\"@rootroopnft mentions\", fontsize=21)\n",
    "    plt.xlabel(\"date\", fontsize=21)\n",
    "    plt.xticks(fontsize=18)\n",
    "    plt.yticks(fontsize=18)\n",
    "    plt.title(\"The Tweeteroo Difference\", fontsize=24)\n",
    "    for label in plt.gca().xaxis.get_ticklabels()[::2]:\n",
    "        label.set_visible(False)\n",
    "    # end for\n",
    "    plt.tight_layout()\n",
    "    plt.savefig(\"tweeteroo_difference_style_\" + style + \"_thresholds4.png\")\n",
    "    plt.close()\n",
    "# end for"
   ]
  },
  {
   "cell_type": "code",
   "execution_count": 105,
   "id": "2c01cbd3",
   "metadata": {},
   "outputs": [],
   "source": [
    "x10SS = x1SS[:8]\n",
    "x11SS = x1SS[8:]\n",
    "y10SS = np.array(y1SS[:8])# * (27.9/63.1)\n",
    "y11SS = np.array(y1SS[8:])# * (27.9/63.1)\n",
    "\n",
    "slate_grey   = \"#708090\"\n",
    "canopy_green = \"#8CB76E\"\n",
    "llama_purple = \"#4103fc\"\n",
    "poop_brown   = \"#7b5c00\"\n",
    "\n",
    "plt.rcParams['axes.edgecolor']='#333F4B'\n",
    "plt.rcParams['axes.linewidth']=0.8\n",
    "plt.rcParams['xtick.color']='#333F4B'\n",
    "plt.rcParams['ytick.color']='#333F4B'\n",
    "\n",
    "for style in styles:\n",
    "    if \"seaborn-colorblind\" not in style:\n",
    "        continue\n",
    "    plt.style.use(style)\n",
    "    fig = plt.figure(figsize=(10,8))\n",
    "    plt.bar(x10SS,y10SS, color=llama_purple)\n",
    "    plt.bar(x11SS,y11SS, color=slate_grey)\n",
    "    plt.axhline(y=np.sum(y10SS) / 8.0, color=llama_purple)\n",
    "    plt.axhline(y=np.sum(y11SS) / 8.0, color=slate_grey)\n",
    "    \n",
    "    plt.ylabel(\"@sappysealsnft mentions (normalized)\", fontsize=21)\n",
    "    plt.xlabel(\"date\", fontsize=21)\n",
    "    plt.xticks(fontsize=18)\n",
    "    plt.yticks(fontsize=18)\n",
    "    #plt.title()#\"The Tweeteroo Difference\", fontsize=24)\n",
    "    for label in plt.gca().xaxis.get_ticklabels()[::2]:\n",
    "        label.set_visible(False)\n",
    "    # end for\n",
    "    plt.tight_layout()\n",
    "    plt.savefig(\"tweeteroo_difference_style_\" + style + \"_thresholds5.png\")\n",
    "    plt.close()\n",
    "# end for"
   ]
  },
  {
   "cell_type": "code",
   "execution_count": 106,
   "id": "4bfb5d82",
   "metadata": {},
   "outputs": [],
   "source": [
    "x10SS = x1SS[:8]\n",
    "x11SS = x1SS[8:]\n",
    "y10SS = np.array(y1SS[:8]) * (27.9/63.1)\n",
    "y11SS = np.array(y1SS[8:]) * (27.9/63.1)\n",
    "\n",
    "slate_grey   = \"#708090\"\n",
    "canopy_green = \"#8CB76E\"\n",
    "llama_purple = \"#4103fc\"\n",
    "poop_brown   = \"#7b5c00\"\n",
    "\n",
    "plt.rcParams['axes.edgecolor']='#333F4B'\n",
    "plt.rcParams['axes.linewidth']=0.8\n",
    "plt.rcParams['xtick.color']='#333F4B'\n",
    "plt.rcParams['ytick.color']='#333F4B'\n",
    "\n",
    "for style in styles:\n",
    "    if \"seaborn-colorblind\" not in style:\n",
    "        continue\n",
    "    plt.style.use(style)\n",
    "    fig = plt.figure(figsize=(10,8))\n",
    "    plt.bar(x10SS,y10SS, color=llama_purple)\n",
    "    plt.bar(x11SS,y11SS, color=slate_grey)\n",
    "    plt.axhline(y=np.sum(y10SS) / 8.0, color=llama_purple)\n",
    "    plt.axhline(y=np.sum(y11SS) / 8.0, color=slate_grey)\n",
    "    \n",
    "    plt.ylabel(\"@sappysealsnft mentions (normalized)\", fontsize=21)\n",
    "    plt.xlabel(\"date\", fontsize=21)\n",
    "    plt.xticks(fontsize=18)\n",
    "    plt.yticks(fontsize=18)\n",
    "    #plt.title()#\"The Tweeteroo Difference\", fontsize=24)\n",
    "    for label in plt.gca().xaxis.get_ticklabels()[::2]:\n",
    "        label.set_visible(False)\n",
    "    # end for\n",
    "    plt.tight_layout()\n",
    "    plt.savefig(\"tweeteroo_difference_style_\" + style + \"_thresholds6.png\")\n",
    "    plt.close()\n",
    "# end for"
   ]
  },
  {
   "cell_type": "code",
   "execution_count": 28,
   "id": "742d91b6",
   "metadata": {},
   "outputs": [
    {
     "data": {
      "image/png": "[encoded data removed]",
      "text/plain": [
       "<Figure size 432x288 with 1 Axes>"
      ]
     },
     "metadata": {
      "needs_background": "light"
     },
     "output_type": "display_data"
    }
   ],
   "source": [
    "for label in plt.gca().xaxis.get_ticklabels()[::2]:\n",
    "    label.set_visible(False)"
   ]
  },
  {
   "cell_type": "code",
   "execution_count": 37,
   "id": "ab160f7b",
   "metadata": {},
   "outputs": [],
   "source": [
    "styles = plt.style.available"
   ]
  },
  {
   "cell_type": "code",
   "execution_count": null,
   "id": "610e8221",
   "metadata": {},
   "outputs": [],
   "source": []
  }
 ],
 "metadata": {
  "kernelspec": {
   "display_name": "Python 3 (ipykernel)",
   "language": "python",
   "name": "python3"
  },
  "language_info": {
   "codemirror_mode": {
    "name": "ipython",
    "version": 3
   },
   "file_extension": ".py",
   "mimetype": "text/x-python",
   "name": "python",
   "nbconvert_exporter": "python",
   "pygments_lexer": "ipython3",
   "version": "3.8.9"
  }
 },
 "nbformat": 4,
 "nbformat_minor": 5
}
